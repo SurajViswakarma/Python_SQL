{
 "cells": [
  {
   "cell_type": "markdown",
   "metadata": {},
   "source": [
    "## String Manipulation"
   ]
  },
  {
   "cell_type": "code",
   "execution_count": 8,
   "metadata": {},
   "outputs": [
    {
     "name": "stdout",
     "output_type": "stream",
     "text": [
      "raj\n",
      "Suraj is my name\n",
      "Suraj is my name\n",
      "m\n",
      "Suraj\n",
      " is my name\n",
      " na\n"
     ]
    }
   ],
   "source": [
    "x = \"Suraj is my name\"\n",
    "print(x[2:5])\n",
    "print(x[::])\n",
    "print(x[:])\n",
    "print(x[-2])\n",
    "print(x[:5]) # to 5th position\n",
    "print(x[5:]) # from 5th Position\n",
    "print(x[-5:-2])"
   ]
  },
  {
   "cell_type": "code",
   "execution_count": 15,
   "metadata": {},
   "outputs": [
    {
     "name": "stdout",
     "output_type": "stream",
     "text": [
      " SURAJ, IS MY NAME \n",
      " suraj, is my name \n",
      "Suraj, is my name\n"
     ]
    }
   ],
   "source": [
    "y = \" Suraj, is my name \"\n",
    "\n",
    "print(y.upper())\n",
    "print(y.lower())\n",
    "print(y.strip()) # removes the white strip i.e LTRIM and RTRIM"
   ]
  },
  {
   "cell_type": "code",
   "execution_count": 17,
   "metadata": {},
   "outputs": [
    {
     "name": "stdout",
     "output_type": "stream",
     "text": [
      "Suraj is my name !\n",
      "Anand is my name !\n"
     ]
    }
   ],
   "source": [
    "z = \"Suraj is my name !\"\n",
    "print(z)\n",
    "print(z.replace(\"Suraj\", \"Anand\"))"
   ]
  },
  {
   "cell_type": "code",
   "execution_count": 23,
   "metadata": {},
   "outputs": [
    {
     "name": "stdout",
     "output_type": "stream",
     "text": [
      "['Strip', ' me in two']\n"
     ]
    }
   ],
   "source": [
    "name = \"Strip, me in two\"\n",
    "print(name.split(\",\"))"
   ]
  },
  {
   "cell_type": "code",
   "execution_count": 2,
   "metadata": {},
   "outputs": [
    {
     "name": "stdout",
     "output_type": "stream",
     "text": [
      "SurajViswakarma\n",
      "Suraj Viswakarma\n"
     ]
    }
   ],
   "source": [
    "Name = \"Suraj\"\n",
    "Title = \"Viswakarma\"\n",
    "print(Name+Title)\n",
    "print(Name+\" \"+Title)"
   ]
  },
  {
   "cell_type": "code",
   "execution_count": 8,
   "metadata": {},
   "outputs": [
    {
     "name": "stdout",
     "output_type": "stream",
     "text": [
      "Suraj Viswakarma Age: 53\n",
      "Suraj Viswakarma\n"
     ]
    }
   ],
   "source": [
    "age = 53\n",
    "Name = \"Suraj Viswakarma\"\n",
    "print(Name+\" \"+\"Age: \"+str(age))\n",
    "\n"
   ]
  },
  {
   "cell_type": "code",
   "execution_count": 10,
   "metadata": {},
   "outputs": [
    {
     "name": "stdout",
     "output_type": "stream",
     "text": [
      "My name is suraj, and my age is 56\n"
     ]
    }
   ],
   "source": [
    "Name = \"My name is suraj\"\n",
    "age = 56\n",
    "\n",
    "Text = \"My name is suraj, and my age is {}\"\n",
    "\n",
    "print(Text.format(age))"
   ]
  },
  {
   "cell_type": "code",
   "execution_count": 11,
   "metadata": {},
   "outputs": [
    {
     "name": "stdout",
     "output_type": "stream",
     "text": [
      "My name is debashis pati, my age is 56, salay is 90000\n"
     ]
    }
   ],
   "source": [
    "age = 56\n",
    "salary = 90000\n",
    "name = 'debashis pati'\n",
    "\n",
    "text = 'My name is {}, my age is {}, salay is {}'\n",
    "print(text.format(name,age,salary))"
   ]
  },
  {
   "cell_type": "code",
   "execution_count": 19,
   "metadata": {},
   "outputs": [
    {
     "name": "stdout",
     "output_type": "stream",
     "text": [
      "my age is 90, salary is 120000 and I am mr. RAHUL CHOGLE\n"
     ]
    }
   ],
   "source": [
    "age = 90\n",
    "salary = 120000\n",
    "name = 'rahul chogle'\n",
    "\n",
    "text = \"my age is {0}, salary is {2} and I am mr. {1}\"\n",
    "\n",
    "print(text.format(age,name.upper(),salary))"
   ]
  },
  {
   "cell_type": "code",
   "execution_count": 33,
   "metadata": {},
   "outputs": [
    {
     "name": "stdout",
     "output_type": "stream",
     "text": [
      "Suraj \"The Boss\" is my name\n",
      "Suraj 'The Boss' is my name\n",
      "Suraj \\ is my name\n",
      "Suraj \n",
      " is my name\n",
      " is my name\n",
      "Suraj \t is my name\n",
      "Suraj is my name\n",
      "Suraj \f is my name\n",
      "Suraj \\ooo is my name\n"
     ]
    }
   ],
   "source": [
    "Name1 = \"Suraj \\\"The Boss\\\" is my name\"\n",
    "Name2 = \"Suraj \\'The Boss\\' is my name\"\n",
    "Name3 = \"Suraj \\\\ is my name\"\n",
    "Name4 = \"Suraj \\n is my name \"\n",
    "Name5 = \"Suraj \\r is my name \"\n",
    "Name6 =  \"Suraj \\t is my name \"\n",
    "Name7 = \"Suraj \\b is my name \"\n",
    "Name8 = \"Suraj \\f is my name \"\n",
    "Name9 = \"Suraj \\ooo is my name \"\n",
    "#Name10 = \"Suraj \\xhh is my name \"\n",
    "\n",
    "print(Name1)\n",
    "print(Name2)\n",
    "print(Name3)\n",
    "print(Name4.strip())\n",
    "print(Name5.strip())\n",
    "print(Name6.strip())\n",
    "print(Name7.strip())\n",
    "print(Name8.strip())\n",
    "print(Name9.strip())\n",
    "#print(Name10.strip())\n"
   ]
  },
  {
   "cell_type": "code",
   "execution_count": 59,
   "metadata": {},
   "outputs": [
    {
     "name": "stdout",
     "output_type": "stream",
     "text": [
      "suraj is my Name and my age is 101\n",
      "Suraj is my name and my age is 101\n",
      "suraj is my name and my age is 101\n",
      "suraj is my Name and my age is 101\n",
      "1\n",
      "b'suraj is my Name and my age is 101'\n",
      "True\n",
      "suraj is my Name and my age is 101\n",
      "24\n",
      "0\n",
      "False\n"
     ]
    }
   ],
   "source": [
    "Name = \"suraj is my Name and my age is 101\"\n",
    "\n",
    "print(Name)\n",
    "print(Name.capitalize())\n",
    "print(Name.casefold()) # into lowercase\n",
    "print(Name.center(5))\n",
    "print(Name.count(\"suraj\"))\n",
    "print(Name.encode())\n",
    "print(Name.endswith(\"101\"))\n",
    "print(Name.expandtabs(50))\n",
    "print(Name.find('age'))\n",
    "print(Name.index('suraj'))\n",
    "print(Name.islower())"
   ]
  },
  {
   "cell_type": "markdown",
   "metadata": {},
   "source": [
    "## Note\n",
    "link: https://www.w3schools.com/python/python_strings_methods.asp"
   ]
  },
  {
   "cell_type": "markdown",
   "metadata": {},
   "source": []
  }
 ],
 "metadata": {
  "interpreter": {
   "hash": "d406864f2ee78ecc67afccccd0a48c216f41ca3a0f9ca739a0b9d8b15ae422ba"
  },
  "kernelspec": {
   "display_name": "Python 3.10.0 64-bit",
   "language": "python",
   "name": "python3"
  },
  "language_info": {
   "codemirror_mode": {
    "name": "ipython",
    "version": 3
   },
   "file_extension": ".py",
   "mimetype": "text/x-python",
   "name": "python",
   "nbconvert_exporter": "python",
   "pygments_lexer": "ipython3",
   "version": "3.10.0"
  },
  "orig_nbformat": 4
 },
 "nbformat": 4,
 "nbformat_minor": 2
}
