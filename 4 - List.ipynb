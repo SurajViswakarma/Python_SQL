{
 "cells": [
  {
   "cell_type": "markdown",
   "metadata": {},
   "source": [
    "## List"
   ]
  },
  {
   "cell_type": "code",
   "execution_count": 3,
   "metadata": {},
   "outputs": [
    {
     "name": "stdout",
     "output_type": "stream",
     "text": [
      "['item1', 'item2', 'item3']\n",
      "item2\n"
     ]
    }
   ],
   "source": [
    "list1 = ['item1','item2','item3']\n",
    "\n",
    "print(list1)\n",
    "print(list1[1])"
   ]
  },
  {
   "cell_type": "code",
   "execution_count": 7,
   "metadata": {},
   "outputs": [
    {
     "name": "stdout",
     "output_type": "stream",
     "text": [
      "['itme1', 'itme10', 'item1']\n",
      "itme1\n",
      "itme10\n"
     ]
    }
   ],
   "source": [
    "list2 = ['itme1','itme10','item1']\n",
    "print(list2)\n",
    "print(list2[0])\n",
    "print(list2[1])"
   ]
  },
  {
   "cell_type": "code",
   "execution_count": 8,
   "metadata": {},
   "outputs": [
    {
     "name": "stdout",
     "output_type": "stream",
     "text": [
      "4\n"
     ]
    }
   ],
   "source": [
    "name = ['ram','raj','ananad','udhay']\n",
    "\n",
    "print(len(name))"
   ]
  },
  {
   "cell_type": "code",
   "execution_count": 13,
   "metadata": {},
   "outputs": [
    {
     "name": "stdout",
     "output_type": "stream",
     "text": [
      "['suraj', 10, 'viswakarma', 20]\n",
      "<class 'list'>\n"
     ]
    }
   ],
   "source": [
    "list3 = ['suraj',10,'viswakarma',20]\n",
    "print(list3)\n",
    "print(type(list3))\n"
   ]
  },
  {
   "cell_type": "code",
   "execution_count": 15,
   "metadata": {},
   "outputs": [
    {
     "name": "stdout",
     "output_type": "stream",
     "text": [
      "['suraj', 10, 15, 'hey!']\n"
     ]
    }
   ],
   "source": [
    "list9 = list(('suraj',10,15,'hey!'))\n",
    "print(list9)"
   ]
  },
  {
   "cell_type": "code",
   "execution_count": 41,
   "metadata": {},
   "outputs": [
    {
     "name": "stdout",
     "output_type": "stream",
     "text": [
      "[10, 20, 30, 40]\n",
      "[10, 20, 30, 40, 50, 60, 70, 80, 90, 100]\n",
      "[10, 20, 30, 40, 50, 60, 70, 80, 90, 100]\n",
      "[10, 20, 30, 40, 50, 60, 70, 80, 90, 100]\n",
      "[10, 20, 30, 40, 50]\n",
      "[60, 70, 80, 90, 100]\n",
      "[70, 80, 90]\n"
     ]
    }
   ],
   "source": [
    "numlist = [10,20,30,40,50,60,70,80,90,100]\n",
    "print(numlist[0:4])\n",
    "print(numlist[:])\n",
    "print(numlist[::])\n",
    "print(numlist[0:10])\n",
    "print(numlist[:5])\n",
    "print(numlist[5:10])\n",
    "print(numlist[-4:-1])"
   ]
  },
  {
   "cell_type": "code",
   "execution_count": 43,
   "metadata": {},
   "outputs": [
    {
     "name": "stdout",
     "output_type": "stream",
     "text": [
      "Hey I got the \"Del\" \n"
     ]
    }
   ],
   "source": [
    "NameList = ['Del','BOM', 'MAA', 'ATQ', 'PNQ', 'GAU', 'IXL', 'IXM', 'HYD']\n",
    "\n",
    "if 'Del' in NameList:\n",
    "    print(\"Hey I got the \\\"Del\\\" \")"
   ]
  },
  {
   "cell_type": "code",
   "execution_count": 44,
   "metadata": {},
   "outputs": [
    {
     "name": "stdout",
     "output_type": "stream",
     "text": [
      "['DEL', 'BOM', 'MAA', 'ATQ', 'PNQ', 'GAU', 'IXL', 'IXM', 'HYD']\n"
     ]
    }
   ],
   "source": [
    "NameList = ['Del','BOM', 'MAA', 'ATQ', 'PNQ', 'GAU', 'IXL', 'IXM', 'HYD']\n",
    "\n",
    "NameList[0] = 'DEL'\n",
    "\n",
    "print(NameList)"
   ]
  },
  {
   "cell_type": "code",
   "execution_count": 47,
   "metadata": {},
   "outputs": [
    {
     "name": "stdout",
     "output_type": "stream",
     "text": [
      "['ODI', 'ROU', 'MAA', 'ATQ', 'PNQ', 'GAU', 'IXL', 'IXM', 'HYD']\n",
      "['ODI', 'ROU', 'MAA', 'ATQ', 'PNQ', 'GAU', 'IXL', 'IXM', 'HYD']\n"
     ]
    }
   ],
   "source": [
    "NameList = ['Del','BOM', 'MAA', 'ATQ', 'PNQ', 'GAU', 'IXL', 'IXM', 'HYD']\n",
    "\n",
    "NameList[0:1] = ['ODI','ROU']\n",
    "NameList[0:3] = ['ODI','ROU']\n",
    "\n",
    "print(NameList)\n",
    "print(NameList)"
   ]
  },
  {
   "cell_type": "code",
   "execution_count": 51,
   "metadata": {},
   "outputs": [
    {
     "name": "stdout",
     "output_type": "stream",
     "text": [
      "[50, 10, 20, 30]\n"
     ]
    }
   ],
   "source": [
    "List10 = [10,20,30]\n",
    "\n",
    "List10.insert(0,50)\n",
    "\n",
    "print(List10)"
   ]
  },
  {
   "cell_type": "code",
   "execution_count": 53,
   "metadata": {},
   "outputs": [
    {
     "name": "stdout",
     "output_type": "stream",
     "text": [
      "['suraj']\n"
     ]
    }
   ],
   "source": [
    "lista = []\n",
    "\n",
    "lista.append('suraj')\n",
    "\n",
    "print(lista)"
   ]
  },
  {
   "cell_type": "code",
   "execution_count": 58,
   "metadata": {},
   "outputs": [
    {
     "name": "stdout",
     "output_type": "stream",
     "text": [
      "[1, 2, 3, 'suraj']\n"
     ]
    }
   ],
   "source": [
    "list1 = [1,2,3]\n",
    "list2 = ['suraj']\n",
    "\n",
    "list1.extend(list2)\n",
    "\n",
    "print(list1)"
   ]
  },
  {
   "cell_type": "code",
   "execution_count": 59,
   "metadata": {},
   "outputs": [
    {
     "name": "stdout",
     "output_type": "stream",
     "text": [
      "[1, 2, 3, 1, 2, 3]\n"
     ]
    }
   ],
   "source": [
    "list1 = [1,2,3]\n",
    "set1 = (1,2,3)\n",
    "\n",
    "list1.extend(set1)\n",
    "\n",
    "print(list1)"
   ]
  },
  {
   "cell_type": "code",
   "execution_count": 60,
   "metadata": {},
   "outputs": [
    {
     "name": "stdout",
     "output_type": "stream",
     "text": [
      "[10, 20, 'name']\n"
     ]
    }
   ],
   "source": [
    "list1 = [10,20]\n",
    "dict1 = {\"name\":\"suraj\"}\n",
    "\n",
    "list1.extend(dict1)\n",
    "\n",
    "print(list1)"
   ]
  },
  {
   "cell_type": "code",
   "execution_count": 66,
   "metadata": {},
   "outputs": [
    {
     "name": "stdout",
     "output_type": "stream",
     "text": [
      "[1, 2, 3, 4, 5, 6, 7, 8, 9]\n",
      "2\n",
      "[1, 3, 4, 6, 7, 8, 9]\n"
     ]
    }
   ],
   "source": [
    "List1 = list(range(1,10))\n",
    "\n",
    "print(List1)\n",
    "\n",
    "print(List1.pop(1))\n",
    "\n",
    "List1.remove(5)\n",
    "\n",
    "print(List1)"
   ]
  },
  {
   "cell_type": "code",
   "execution_count": 68,
   "metadata": {},
   "outputs": [
    {
     "name": "stdout",
     "output_type": "stream",
     "text": [
      "[10, 11, 12, 13, 14, 15, 16, 17, 18, 19, 20, 21, 22, 23, 24, 25, 26, 27, 28, 29, 30, 31, 32, 33, 34, 35, 36, 37, 38, 39, 40, 41, 42, 43, 44, 45, 46, 47, 48, 49, 50, 51, 52, 53, 54, 55, 56, 57, 58, 59, 60, 61, 62, 63, 64, 65, 66, 67, 68, 69, 70, 71, 72, 73, 74, 75, 76, 77, 78, 79, 80, 81, 82, 83, 84, 85, 86, 87, 88, 89, 90, 91, 92, 93, 94, 95, 96, 97, 98, 99]\n"
     ]
    }
   ],
   "source": [
    "list45 = list(range(10,100))\n",
    "print(list45)"
   ]
  },
  {
   "cell_type": "code",
   "execution_count": 70,
   "metadata": {},
   "outputs": [
    {
     "name": "stdout",
     "output_type": "stream",
     "text": [
      "[]\n"
     ]
    }
   ],
   "source": [
    "list45.clear()\n",
    "\n",
    "print(list45)"
   ]
  },
  {
   "cell_type": "code",
   "execution_count": 72,
   "metadata": {},
   "outputs": [
    {
     "name": "stdout",
     "output_type": "stream",
     "text": [
      "[10, 11, 12, 13, 14, 15, 16, 17, 18, 19, 21, 22, 23, 24, 25, 26, 27, 28, 29, 30, 31, 32, 33, 34, 35, 36, 37, 38, 39, 40, 41, 42, 43, 44, 45, 46, 47, 48, 49, 50, 51, 52, 53, 54, 55, 56, 57, 58, 59, 60, 61, 62, 63, 64, 65, 66, 67, 68, 69, 70, 71, 72, 73, 74, 75, 76, 77, 78, 79, 80, 81, 82, 83, 84, 85, 86, 87, 88, 89, 90, 91, 92, 93, 94, 95, 96, 97, 98, 99]\n"
     ]
    }
   ],
   "source": [
    "list45 = list(range(10,100))\n",
    "#print(list45)\n",
    "\n",
    "del list45[10]\n",
    "\n",
    "print(list45)"
   ]
  },
  {
   "cell_type": "code",
   "execution_count": 74,
   "metadata": {},
   "outputs": [
    {
     "name": "stdout",
     "output_type": "stream",
     "text": [
      "[1, 2, 3, 4, 5, 6, 7, 8, 9]\n"
     ]
    }
   ],
   "source": [
    "List9 = list(range(1,10))\n",
    "print(List9)"
   ]
  },
  {
   "cell_type": "code",
   "execution_count": 76,
   "metadata": {},
   "outputs": [
    {
     "name": "stdout",
     "output_type": "stream",
     "text": [
      "1\n",
      "2\n",
      "3\n",
      "4\n",
      "5\n",
      "6\n",
      "7\n",
      "8\n",
      "9\n"
     ]
    }
   ],
   "source": [
    "for x in List9:\n",
    "    print (x)"
   ]
  },
  {
   "cell_type": "code",
   "execution_count": 78,
   "metadata": {},
   "outputs": [
    {
     "name": "stdout",
     "output_type": "stream",
     "text": [
      "[1, 2, 3, 4, 5, 6, 7, 8, 9]\n"
     ]
    }
   ],
   "source": [
    "listone = []\n",
    "\n",
    "listtwo = list(range(1,10))\n",
    "\n",
    "for y in listtwo:\n",
    "    listone.append(y)\n",
    "    \n",
    "print(listone)"
   ]
  },
  {
   "cell_type": "code",
   "execution_count": 1,
   "metadata": {},
   "outputs": [
    {
     "name": "stdout",
     "output_type": "stream",
     "text": [
      "5\n",
      "3\n",
      "6\n",
      "5\n"
     ]
    }
   ],
   "source": [
    "lista = ['suraj','ram','prasad','kumar']\n",
    "\n",
    "for y in lista:\n",
    "    print(len(y))"
   ]
  },
  {
   "cell_type": "code",
   "execution_count": 19,
   "metadata": {},
   "outputs": [
    {
     "name": "stdout",
     "output_type": "stream",
     "text": [
      "[1, 2, 3, 4, 5, 6, 7, 8, 9]\n",
      "9\n"
     ]
    }
   ],
   "source": [
    "listabc = list(range(1,10))\n",
    "\n",
    "print(listabc)\n",
    "\n",
    "for z in listabc:\n",
    "    if z >= 9:\n",
    "        print(z)\n"
   ]
  },
  {
   "cell_type": "code",
   "execution_count": 21,
   "metadata": {},
   "outputs": [
    {
     "name": "stdout",
     "output_type": "stream",
     "text": [
      "apple\n",
      "banana\n",
      "cherry\n"
     ]
    }
   ],
   "source": [
    "thislist = [\"apple\", \"banana\", \"cherry\"]\n",
    "i = 0\n",
    "while i < len(thislist):\n",
    "  print(thislist[i])\n",
    "  i = i + 1"
   ]
  },
  {
   "cell_type": "code",
   "execution_count": 28,
   "metadata": {},
   "outputs": [
    {
     "name": "stdout",
     "output_type": "stream",
     "text": [
      "[1, 2, 3, 4, 5, 6, 7, 8, 9]\n",
      "['banana', 'kela']\n",
      "[9, 8, 7, 6, 5, 4, 3, 2, 1]\n"
     ]
    }
   ],
   "source": [
    "listo = list(range(1,10))\n",
    "listp = list(range(11,20))\n",
    "listm = ['banana','kela']\n",
    "\n",
    "print(listo)\n",
    "\n",
    "listm.sort()\n",
    "listo.sort(reverse= True)\n",
    "\n",
    "listcopy = listm.copy()\n",
    "\n",
    "print(listcopy)\n",
    "\n",
    "print(listo)"
   ]
  },
  {
   "cell_type": "markdown",
   "metadata": {},
   "source": [
    "# Note\n",
    "\n",
    "### There are four collection data types in the Python programming language:\n",
    "\n",
    "#### List is a collection which is ordered and changeable. Allows duplicate members.\n",
    "#### Tuple is a collection which is ordered and unchangeable. Allows duplicate members.\n",
    "#### Set is a collection which is unordered, unchangeable*, and unindexed. No duplicate members.\n",
    "#### Dictionary is a collection which is ordered** and changeable. No duplicate members."
   ]
  },
  {
   "cell_type": "markdown",
   "metadata": {},
   "source": []
  }
 ],
 "metadata": {
  "interpreter": {
   "hash": "d406864f2ee78ecc67afccccd0a48c216f41ca3a0f9ca739a0b9d8b15ae422ba"
  },
  "kernelspec": {
   "display_name": "Python 3.10.0 64-bit",
   "language": "python",
   "name": "python3"
  },
  "language_info": {
   "codemirror_mode": {
    "name": "ipython",
    "version": 3
   },
   "file_extension": ".py",
   "mimetype": "text/x-python",
   "name": "python",
   "nbconvert_exporter": "python",
   "pygments_lexer": "ipython3",
   "version": "3.10.0"
  },
  "orig_nbformat": 4
 },
 "nbformat": 4,
 "nbformat_minor": 2
}
